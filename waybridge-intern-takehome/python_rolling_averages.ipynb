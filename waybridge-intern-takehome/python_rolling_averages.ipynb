{
 "cells": [
  {
   "cell_type": "markdown",
   "id": "demonstrated-bunch",
   "metadata": {},
   "source": [
    "## Solving for Rolling Averages using Python - Kevin Sun"
   ]
  },
  {
   "cell_type": "markdown",
   "id": "chinese-optimization",
   "metadata": {},
   "source": [
    "### Libraries Needed:\n",
    "- csv"
   ]
  },
  {
   "cell_type": "code",
   "execution_count": null,
   "id": "neither-position",
   "metadata": {},
   "outputs": [],
   "source": [
    "import csv"
   ]
  },
  {
   "cell_type": "code",
   "execution_count": 2,
   "id": "offshore-spine",
   "metadata": {},
   "outputs": [],
   "source": [
    "def load_csv():\n",
    "    \"\"\" load the CSV containing the values.\n",
    "\n",
    "    Returns:\n",
    "        tuple: first element sampling points, second element values\n",
    "\n",
    "    \"\"\"\n",
    "    time_array = []\n",
    "    input_array = []\n",
    "    with open('example.csv', 'r') as csvfile:\n",
    "        reader = csv.reader(csvfile, delimiter=',')\n",
    "        for index, row in enumerate(reader):\n",
    "            if index > 0:\n",
    "                time_array.append(int(float(row[1])))\n",
    "                input_array.append(int(float(row[2])))\n",
    "\n",
    "    return time_array, input_array"
   ]
  },
  {
   "cell_type": "code",
   "execution_count": 3,
   "id": "tired-sample",
   "metadata": {},
   "outputs": [],
   "source": [
    "def calculate_rolling_average(time_array, input_array, averaging_period=600):\n",
    "    \"\"\"Summary\n",
    "    Calculate a rolling average. The output of this function could be second by second, or just the same sampled time points as the input, depending on how you want to implement your algorithm.\n",
    "\n",
    "    Args:\n",
    "        time_array (list): sampling points\n",
    "        input_array (list): values\n",
    "        averaging_period (int): (optional) default 10 minutes (600s)\n",
    "\n",
    "    Returns:\n",
    "        tuple: Max value of avgs, times, values\n",
    "    \"\"\"\n",
    "    #create array to store rolling averages, set two pointers i and j to 0\n",
    "    rolling_averages = []\n",
    "    i = 0\n",
    "    j = 0\n",
    "    total = 0\n",
    "    #while loop to iterate through using two pointers\n",
    "    while j < len(time_array):\n",
    "        #while loop to iterate index j to the appropriate index where window size would be 600 seconds\n",
    "        while time_array[j] - time_array[i] <= averaging_period:\n",
    "            j += 1\n",
    "            if j >= len(time_array) or i >= len(time_array):\n",
    "                break\n",
    "        #for loop to calculate the sum of values within window, then calculates average for that window\n",
    "        for k in range(i, j-1):\n",
    "            total += input_array[k]\n",
    "        average = total/(j-1-i)\n",
    "        rolling_averages.append(average)\n",
    "        total = 0\n",
    "        #increment i to next element\n",
    "        i += 1\n",
    "    return (max(rolling_averages), max(time_array), max(input_array))"
   ]
  },
  {
   "cell_type": "code",
   "execution_count": 4,
   "id": "lyric-climb",
   "metadata": {},
   "outputs": [],
   "source": [
    "#calls\n",
    "time_array, input_array = load_csv()\n",
    "result = calculate_rolling_average(time_array, input_array, 600)"
   ]
  },
  {
   "cell_type": "code",
   "execution_count": 5,
   "id": "blond-renewal",
   "metadata": {},
   "outputs": [
    {
     "data": {
      "text/plain": [
       "(295.50331125827813, 9340, 780)"
      ]
     },
     "execution_count": 5,
     "metadata": {},
     "output_type": "execute_result"
    }
   ],
   "source": [
    "#calculate_rolling_average returns tuple: Max value of avgs, times, values\n",
    "#I was confused on what was meant by times and values, so I simply added the max time and max value into the tuple\n",
    "result"
   ]
  }
 ],
 "metadata": {
  "kernelspec": {
   "display_name": "Python 3",
   "language": "python",
   "name": "python3"
  },
  "language_info": {
   "codemirror_mode": {
    "name": "ipython",
    "version": 3
   },
   "file_extension": ".py",
   "mimetype": "text/x-python",
   "name": "python",
   "nbconvert_exporter": "python",
   "pygments_lexer": "ipython3",
   "version": "3.8.5"
  }
 },
 "nbformat": 4,
 "nbformat_minor": 5
}
