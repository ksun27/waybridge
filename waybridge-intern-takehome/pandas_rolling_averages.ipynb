{
 "cells": [
  {
   "cell_type": "markdown",
   "id": "internal-astronomy",
   "metadata": {},
   "source": [
    "## Solving for Rolling Averages using Pandas - Kevin Sun"
   ]
  },
  {
   "cell_type": "markdown",
   "id": "collaborative-senegal",
   "metadata": {},
   "source": [
    "### Libraries Needed:\n",
    "- Pandas\n",
    "- Matplotlib\n",
    "- datetime"
   ]
  },
  {
   "cell_type": "code",
   "execution_count": null,
   "id": "dried-format",
   "metadata": {},
   "outputs": [],
   "source": [
    "import pandas as pd\n",
    "import matplotlib.pyplot as plt\n",
    "import datetime as dt"
   ]
  },
  {
   "cell_type": "code",
   "execution_count": 2,
   "id": "sunrise-purple",
   "metadata": {},
   "outputs": [],
   "source": [
    "#read from the csv file\n",
    "data = pd.read_csv('example.csv')\n",
    "\n",
    "#don't need index column, so delete it\n",
    "del data['index']\n",
    "\n",
    "#since the time is in non-uniform seconds, I converted it into a timestamp data type for future use in a rolling function\n",
    "data['time'] = pd.to_datetime(data['time'], unit='s') \n",
    "\n",
    "#set index to time\n",
    "data = data.set_index('time')"
   ]
  },
  {
   "cell_type": "code",
   "execution_count": 3,
   "id": "prerequisite-vegetarian",
   "metadata": {},
   "outputs": [
    {
     "data": {
      "text/html": [
       "<div>\n",
       "<style scoped>\n",
       "    .dataframe tbody tr th:only-of-type {\n",
       "        vertical-align: middle;\n",
       "    }\n",
       "\n",
       "    .dataframe tbody tr th {\n",
       "        vertical-align: top;\n",
       "    }\n",
       "\n",
       "    .dataframe thead th {\n",
       "        text-align: right;\n",
       "    }\n",
       "</style>\n",
       "<table border=\"1\" class=\"dataframe\">\n",
       "  <thead>\n",
       "    <tr style=\"text-align: right;\">\n",
       "      <th></th>\n",
       "      <th>value</th>\n",
       "    </tr>\n",
       "    <tr>\n",
       "      <th>time</th>\n",
       "      <th></th>\n",
       "    </tr>\n",
       "  </thead>\n",
       "  <tbody>\n",
       "    <tr>\n",
       "      <th>1970-01-01 00:00:00</th>\n",
       "      <td>0.0</td>\n",
       "    </tr>\n",
       "    <tr>\n",
       "      <th>1970-01-01 00:00:01</th>\n",
       "      <td>0.0</td>\n",
       "    </tr>\n",
       "    <tr>\n",
       "      <th>1970-01-01 00:00:04</th>\n",
       "      <td>0.0</td>\n",
       "    </tr>\n",
       "    <tr>\n",
       "      <th>1970-01-01 00:00:07</th>\n",
       "      <td>0.0</td>\n",
       "    </tr>\n",
       "    <tr>\n",
       "      <th>1970-01-01 00:00:08</th>\n",
       "      <td>0.0</td>\n",
       "    </tr>\n",
       "    <tr>\n",
       "      <th>...</th>\n",
       "      <td>...</td>\n",
       "    </tr>\n",
       "    <tr>\n",
       "      <th>1970-01-01 02:35:31</th>\n",
       "      <td>119.0</td>\n",
       "    </tr>\n",
       "    <tr>\n",
       "      <th>1970-01-01 02:35:32</th>\n",
       "      <td>105.0</td>\n",
       "    </tr>\n",
       "    <tr>\n",
       "      <th>1970-01-01 02:35:35</th>\n",
       "      <td>80.0</td>\n",
       "    </tr>\n",
       "    <tr>\n",
       "      <th>1970-01-01 02:35:37</th>\n",
       "      <td>0.0</td>\n",
       "    </tr>\n",
       "    <tr>\n",
       "      <th>1970-01-01 02:35:40</th>\n",
       "      <td>0.0</td>\n",
       "    </tr>\n",
       "  </tbody>\n",
       "</table>\n",
       "<p>4607 rows × 1 columns</p>\n",
       "</div>"
      ],
      "text/plain": [
       "                     value\n",
       "time                      \n",
       "1970-01-01 00:00:00    0.0\n",
       "1970-01-01 00:00:01    0.0\n",
       "1970-01-01 00:00:04    0.0\n",
       "1970-01-01 00:00:07    0.0\n",
       "1970-01-01 00:00:08    0.0\n",
       "...                    ...\n",
       "1970-01-01 02:35:31  119.0\n",
       "1970-01-01 02:35:32  105.0\n",
       "1970-01-01 02:35:35   80.0\n",
       "1970-01-01 02:35:37    0.0\n",
       "1970-01-01 02:35:40    0.0\n",
       "\n",
       "[4607 rows x 1 columns]"
      ]
     },
     "execution_count": 3,
     "metadata": {},
     "output_type": "execute_result"
    }
   ],
   "source": [
    "#what the data looks like right now\n",
    "data"
   ]
  },
  {
   "cell_type": "markdown",
   "id": "opening-pricing",
   "metadata": {},
   "source": [
    "The reason why I needed to convert the time to a timestamp data value was because the rolling function takes in a window size of a certain amount. If I had left it simply as 600 instead of 600s, then it would have counted 600 instances as the window instead of 600 seconds as the window."
   ]
  },
  {
   "cell_type": "code",
   "execution_count": 4,
   "id": "regulated-silicon",
   "metadata": {},
   "outputs": [],
   "source": [
    "#calculates rolling average with 600 seconds as window\n",
    "data['average'] = data.rolling('600s').mean()\n",
    "\n",
    "#only counts rolling average when we have enough data\n",
    "data['average'].loc[data.index < pd.Timestamp(1970, 1, 1, 0, 10)] = None\n",
    "\n",
    "#converts timestamp back to seconds for graph\n",
    "data.index = (data.index - dt.datetime(1970,1,1)).total_seconds()"
   ]
  },
  {
   "cell_type": "code",
   "execution_count": 5,
   "id": "amber-civilization",
   "metadata": {},
   "outputs": [
    {
     "data": {
      "text/html": [
       "<div>\n",
       "<style scoped>\n",
       "    .dataframe tbody tr th:only-of-type {\n",
       "        vertical-align: middle;\n",
       "    }\n",
       "\n",
       "    .dataframe tbody tr th {\n",
       "        vertical-align: top;\n",
       "    }\n",
       "\n",
       "    .dataframe thead th {\n",
       "        text-align: right;\n",
       "    }\n",
       "</style>\n",
       "<table border=\"1\" class=\"dataframe\">\n",
       "  <thead>\n",
       "    <tr style=\"text-align: right;\">\n",
       "      <th></th>\n",
       "      <th>value</th>\n",
       "      <th>average</th>\n",
       "    </tr>\n",
       "    <tr>\n",
       "      <th>time</th>\n",
       "      <th></th>\n",
       "      <th></th>\n",
       "    </tr>\n",
       "  </thead>\n",
       "  <tbody>\n",
       "    <tr>\n",
       "      <th>0.0</th>\n",
       "      <td>0.0</td>\n",
       "      <td>NaN</td>\n",
       "    </tr>\n",
       "    <tr>\n",
       "      <th>1.0</th>\n",
       "      <td>0.0</td>\n",
       "      <td>NaN</td>\n",
       "    </tr>\n",
       "    <tr>\n",
       "      <th>4.0</th>\n",
       "      <td>0.0</td>\n",
       "      <td>NaN</td>\n",
       "    </tr>\n",
       "    <tr>\n",
       "      <th>7.0</th>\n",
       "      <td>0.0</td>\n",
       "      <td>NaN</td>\n",
       "    </tr>\n",
       "    <tr>\n",
       "      <th>8.0</th>\n",
       "      <td>0.0</td>\n",
       "      <td>NaN</td>\n",
       "    </tr>\n",
       "    <tr>\n",
       "      <th>...</th>\n",
       "      <td>...</td>\n",
       "      <td>...</td>\n",
       "    </tr>\n",
       "    <tr>\n",
       "      <th>9331.0</th>\n",
       "      <td>119.0</td>\n",
       "      <td>146.411960</td>\n",
       "    </tr>\n",
       "    <tr>\n",
       "      <th>9332.0</th>\n",
       "      <td>105.0</td>\n",
       "      <td>146.274834</td>\n",
       "    </tr>\n",
       "    <tr>\n",
       "      <th>9335.0</th>\n",
       "      <td>80.0</td>\n",
       "      <td>145.677741</td>\n",
       "    </tr>\n",
       "    <tr>\n",
       "      <th>9337.0</th>\n",
       "      <td>0.0</td>\n",
       "      <td>145.013289</td>\n",
       "    </tr>\n",
       "    <tr>\n",
       "      <th>9340.0</th>\n",
       "      <td>0.0</td>\n",
       "      <td>144.338870</td>\n",
       "    </tr>\n",
       "  </tbody>\n",
       "</table>\n",
       "<p>4607 rows × 2 columns</p>\n",
       "</div>"
      ],
      "text/plain": [
       "        value     average\n",
       "time                     \n",
       "0.0       0.0         NaN\n",
       "1.0       0.0         NaN\n",
       "4.0       0.0         NaN\n",
       "7.0       0.0         NaN\n",
       "8.0       0.0         NaN\n",
       "...       ...         ...\n",
       "9331.0  119.0  146.411960\n",
       "9332.0  105.0  146.274834\n",
       "9335.0   80.0  145.677741\n",
       "9337.0    0.0  145.013289\n",
       "9340.0    0.0  144.338870\n",
       "\n",
       "[4607 rows x 2 columns]"
      ]
     },
     "execution_count": 5,
     "metadata": {},
     "output_type": "execute_result"
    }
   ],
   "source": [
    "#what the data looks like right now\n",
    "data"
   ]
  },
  {
   "cell_type": "code",
   "execution_count": 6,
   "id": "unique-kansas",
   "metadata": {},
   "outputs": [
    {
     "data": {
      "text/plain": [
       "Text(0, 0.5, 'Average')"
      ]
     },
     "execution_count": 6,
     "metadata": {},
     "output_type": "execute_result"
    },
    {
     "data": {
      "image/png": "[encoded data removed]",
      "text/plain": [
       "<Figure size 864x432 with 1 Axes>"
      ]
     },
     "metadata": {
      "needs_background": "light"
     },
     "output_type": "display_data"
    }
   ],
   "source": [
    "#calculate_rolling_average returns tuple: Max value of avgs, times, values\n",
    "values = (data['average'].max(), max(data.index.tolist()), data['value'].max())\n",
    "\n",
    "#line plot\n",
    "colors = ['lightblue','darkorange']\n",
    "data.plot(color=colors, linewidth=3, figsize=(12,6))\n",
    "\n",
    "#modify ticks size\n",
    "plt.xticks(fontsize=14)\n",
    "plt.yticks(fontsize=14)\n",
    "plt.legend('')\n",
    "\n",
    "#title and labels\n",
    "plt.title('Rolling Average with Window of 600s', fontsize=20)\n",
    "plt.xlabel('Time', fontsize=16)\n",
    "plt.ylabel('Average', fontsize=16)"
   ]
  },
  {
   "cell_type": "markdown",
   "id": "purple-eating",
   "metadata": {},
   "source": [
    "Graph is the same as the example image provided."
   ]
  },
  {
   "cell_type": "code",
   "execution_count": 11,
   "id": "offshore-connecticut",
   "metadata": {},
   "outputs": [
    {
     "data": {
      "text/plain": [
       "(295.35313531353137, 9340.0, 780.0)"
      ]
     },
     "execution_count": 11,
     "metadata": {},
     "output_type": "execute_result"
    }
   ],
   "source": [
    "#calculate_rolling_average returns tuple: Max value of avgs, times, values\n",
    "#I was confused on what was meant by times and values, so I simply added the max time and max value into the tuple\n",
    "values"
   ]
  }
 ],
 "metadata": {
  "kernelspec": {
   "display_name": "Python 3",
   "language": "python",
   "name": "python3"
  },
  "language_info": {
   "codemirror_mode": {
    "name": "ipython",
    "version": 3
   },
   "file_extension": ".py",
   "mimetype": "text/x-python",
   "name": "python",
   "nbconvert_exporter": "python",
   "pygments_lexer": "ipython3",
   "version": "3.8.5"
  }
 },
 "nbformat": 4,
 "nbformat_minor": 5
}
